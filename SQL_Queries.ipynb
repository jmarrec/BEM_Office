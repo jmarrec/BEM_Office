{
 "cells": [
  {
   "cell_type": "code",
   "execution_count": null,
   "id": "abd1fc10",
   "metadata": {},
   "outputs": [],
   "source": [
    "%matplotlib inline\n",
    "\n",
    "#Import modules\n",
    "import datetime\n",
    "import os\n",
    "import pathlib\n",
    "import sqlite3\n",
    "import pandas as pd\n",
    "import numpy as np\n",
    "\n",
    "import matplotlib as mpl\n",
    "import matplotlib.pyplot as plt\n",
    "import seaborn as sns\n",
    "\n",
    "#import csv\n",
    "import glob as gb"
   ]
  },
  {
   "cell_type": "code",
   "execution_count": null,
   "id": "092cfbc9",
   "metadata": {},
   "outputs": [],
   "source": [
    "mpl.rcParams['figure.figsize'] = (16, 9)\n",
    "pd.options.display.max_rows = 200"
   ]
  },
  {
   "cell_type": "code",
   "execution_count": null,
   "id": "d8a5bdc9",
   "metadata": {},
   "outputs": [],
   "source": [
    "gb.glob('**/*.sql', recursive=True)"
   ]
  },
  {
   "cell_type": "code",
   "execution_count": null,
   "id": "d3465c40",
   "metadata": {},
   "outputs": [],
   "source": [
    "class EPLusSQL():\n",
    "\n",
    "    def __init__(self, sql_path = None):\n",
    "        abs_sql_path = os.path.abspath(sql_path)\n",
    "        self.sql_uri = '{}?mode=ro'.format(pathlib.Path(abs_sql_path).as_uri())\n",
    "        \n",
    "    def get_annual_energy_by_fuel_and_enduse(self):\n",
    "        \"\"\"\n",
    "        Queries SQL file and returns the ABUPS' End Uses table\n",
    "\n",
    "        Parameters\n",
    "        ----------\n",
    "        None\n",
    "\n",
    "        Returns\n",
    "        -------\n",
    "        df_end_use: pd.DataFrame\n",
    "            Annual End Use table\n",
    "            index = 'EndUse'\n",
    "            columns = ['FuelType','Units']\n",
    "        \"\"\"\n",
    "\n",
    "\n",
    "        # RowName = '#{end_use}'\n",
    "        # ColumnName='#{fuel_type}'\n",
    "        annual_end_use_query = \"\"\"SELECT RowName, ColumnName, Units, Value\n",
    "            FROM TabularDataWithStrings\n",
    "            WHERE ReportName='AnnualBuildingUtilityPerformanceSummary'\n",
    "            AND ReportForString='Entire Facility'\n",
    "            AND TableName='End Uses'\n",
    "        \"\"\"\n",
    "\n",
    "        with sqlite3.connect(self.sql_uri, uri=True) as con:\n",
    "            df_end_use = pd.read_sql(annual_end_use_query, con=con)\n",
    "\n",
    "        # Convert Value to Float\n",
    "        df_end_use['Value'] = pd.to_numeric(df_end_use['Value'])\n",
    "\n",
    "        df_end_use = df_end_use.set_index(['RowName',\n",
    "                                         'ColumnName',\n",
    "                                         'Units'])['Value'].unstack([1, 2])\n",
    "        df_end_use.index.name = 'EndUse'\n",
    "        df_end_use.columns.names = ['FuelType', 'Units']\n",
    "\n",
    "        end_use_order = ['Heating', 'Cooling',\n",
    "                         'Interior Lighting', 'Exterior Lighting',\n",
    "                         'Interior Equipment', 'Exterior Equipment',\n",
    "                         'Fans', 'Pumps', 'Heat Rejection', 'Humidification',\n",
    "                         'Heat Recovery', 'Water Systems',\n",
    "                         'Refrigeration', 'Generators']\n",
    "        col_order = [\n",
    "            'Electricity', 'Natural Gas', 'Gasoline', 'Diesel', 'Coal',\n",
    "            'Fuel Oil No 1', 'Fuel Oil No 2', 'Propane', 'Other Fuel 1',\n",
    "            'Other Fuel 2', 'District Cooling', 'District Heating',\n",
    "            'Water']\n",
    "        df_end_use = df_end_use[col_order].loc[end_use_order]\n",
    "\n",
    "        # Filter out columns with ALL zeroes\n",
    "        df_end_use = df_end_use.loc[:,(df_end_use > 0).any(axis=0)]\n",
    "\n",
    "        return df_end_use\n",
    "\n",
    "\n",
    "    def get_unmet_hours_table(self):\n",
    "        \"\"\"\n",
    "        Queries 'SystemSummary' and returns all unmet hours\n",
    "\n",
    "        Parameters\n",
    "        ----------\n",
    "        None\n",
    "\n",
    "        Returns\n",
    "        -------\n",
    "        df_unmet: pd.DataFrame\n",
    "            A DataFrame where\n",
    "\n",
    "\n",
    "        \"\"\"\n",
    "\n",
    "        query = \"\"\"SELECT RowName, ColumnName, Units, Value FROM TabularDataWithStrings\n",
    "    WHERE ReportName='SystemSummary'\n",
    "    AND ReportForString='Entire Facility'\n",
    "    AND TableName='Time Setpoint Not Met'\n",
    "    \"\"\"\n",
    "        with sqlite3.connect(self.sql_uri, uri=True) as con:\n",
    "            df_unmet = pd.read_sql(query, con=con)\n",
    "\n",
    "        # Convert Value to Float\n",
    "        df_unmet['Value'] = pd.to_numeric(df_unmet['Value'])\n",
    "\n",
    "        df_unmet = df_unmet.pivot(index='RowName',\n",
    "                                  columns='ColumnName',\n",
    "                                  values='Value')\n",
    "\n",
    "        df_unmet.columns.names = ['Time Setpoint Not Met (hr)']\n",
    "\n",
    "        # Move 'Facility' as last row (Should always be in the index...)\n",
    "        if 'Facility' in df_unmet.index:\n",
    "            df_unmet = df_unmet.loc[[x for x\n",
    "                                     in df_unmet.index\n",
    "                                     if x != 'Facility'] + ['Facility']]\n",
    "\n",
    "        return df_unmet\n",
    "    \n",
    "    def get_reporting_vars(self):\n",
    "        \"\"\"\n",
    "        Queries 'ReportingDataDictionary' and returns a DataFrame\n",
    "\n",
    "        Parameters\n",
    "        -----------\n",
    "        None\n",
    "\n",
    "        Returns\n",
    "        ---------\n",
    "        df_vars: pd.DataFrame\n",
    "            A DataFrame where each row is a reporting variable\n",
    "        \"\"\"\n",
    "\n",
    "        with sqlite3.connect(self.sql_uri, uri=True) as con:\n",
    "            query = '''\n",
    "        SELECT KeyValue, Name, TimestepType, ReportingFrequency, Units, Type\n",
    "            FROM ReportDataDictionary\n",
    "            '''\n",
    "            df_vars = pd.read_sql(query, con=con)\n",
    "\n",
    "        return df_vars\n",
    "    \n",
    "    \n",
    "    def get_hourly_variables(self, variables_list):\n",
    "        \"\"\"\n",
    "        Queries Hourly variables which names are in variables_list\n",
    "        \n",
    "        eg: variables_list=['Zone Thermal Comfort CEN 15251 Adaptive Model Temperature']\n",
    "        \"\"\"\n",
    "        \n",
    "        query = '''\n",
    "        SELECT EnvironmentPeriodIndex, Month, Day, Hour, Minute,\n",
    "            ReportingFrequency, KeyValue, Name, Units,\n",
    "            Value\n",
    "        FROM ReportVariableWithTime\n",
    "        '''\n",
    "\n",
    "        cond = []\n",
    "\n",
    "        cond.append(\n",
    "            (\"UPPER(Name) IN ({})\".format(', '.join(\n",
    "                              map(repr, [name.upper() for name in variables_list]))))\n",
    "        )\n",
    "\n",
    "        cond.append('ReportingFrequency = \"Hourly\"')\n",
    "\n",
    "        query += '  WHERE {}'.format('\\n    AND '.join(cond))\n",
    "\n",
    "        with sqlite3.connect(self.sql_uri, uri=True) as con:\n",
    "            df = pd.read_sql(query, con=con)\n",
    "\n",
    "        df_pivot = pd.pivot_table(df, values='Value',\n",
    "                                  columns=['ReportingFrequency', 'KeyValue',\n",
    "                                           'Name', 'Units'],\n",
    "                                  index=['EnvironmentPeriodIndex',\n",
    "                                         'Month', 'Day', 'Hour', 'Minute'])\n",
    "\n",
    "        df_pivot = df_pivot.loc[3] # Get the annual environment period index\n",
    "\n",
    "        # We know it's hourly, so recreate a clear index\n",
    "        (month, day, hour, minute) = df_pivot.index[0]\n",
    "        start = datetime.datetime(2005, month, day)\n",
    "        df_pivot.index = pd.date_range(start=start, periods=df_pivot.index.size, freq='H')\n",
    "        df_pivot = df_pivot['Hourly']\n",
    "\n",
    "        return df_pivot\n",
    "    \n",
    "    def get_timestep_variables(self, variables_list = None):\n",
    "        \"\"\"\n",
    "        Queries 'Zone Timestep' variables which names are in variables_list (if supplied, otherwise all)\n",
    "        \n",
    "        eg: variables_list=['Zone Thermal Comfort CEN 15251 Adaptive Model Temperature']\n",
    "        \"\"\"\n",
    "        \n",
    "        query = '''\n",
    "        SELECT EnvironmentPeriodIndex, Month, Day, Hour, Minute,\n",
    "            ReportingFrequency, KeyValue, Name, Units,\n",
    "            Value\n",
    "        FROM ReportVariableWithTime\n",
    "        '''\n",
    "\n",
    "        cond = []\n",
    "\n",
    "        if variables_list:\n",
    "            cond.append(\n",
    "                (\"UPPER(Name) IN ({})\".format(', '.join(\n",
    "                                  map(repr, [name.upper() for name in variables_list]))))\n",
    "            )\n",
    "\n",
    "        cond.append('ReportingFrequency = \"Zone Timestep\"')\n",
    "\n",
    "        query += '  WHERE {}'.format('\\n    AND '.join(cond))\n",
    "\n",
    "        with sqlite3.connect(self.sql_uri, uri=True) as con:\n",
    "            df = pd.read_sql(query, con=con)\n",
    "\n",
    "        df_pivot = pd.pivot_table(df, values='Value',\n",
    "                                  columns=['ReportingFrequency', 'KeyValue',\n",
    "                                           'Name', 'Units'],\n",
    "                                  index=['EnvironmentPeriodIndex',\n",
    "                                         'Month', 'Day', 'Hour', 'Minute'])\n",
    "\n",
    "        df_pivot = df_pivot.loc[3] # Get the annual environment period index\n",
    "\n",
    "        # We know it's Zone Timestep, with 15min timestep, so recreate a clear index\n",
    "        (month, day, hour, minute) = df_pivot.index[0]\n",
    "        start = datetime.datetime(2005, month, day)\n",
    "        \n",
    "        df_pivot.index = pd.date_range(start=start, periods=df_pivot.index.size, freq='15Min')\n",
    "        df_pivot = df_pivot['Zone Timestep']\n",
    "\n",
    "        return df_pivot"
   ]
  },
  {
   "cell_type": "markdown",
   "id": "418650ed",
   "metadata": {},
   "source": [
    "## Energy Use by Fuel and End Use"
   ]
  },
  {
   "cell_type": "code",
   "execution_count": null,
   "id": "4102ffaf",
   "metadata": {},
   "outputs": [],
   "source": [
    "eplus_sql = EPLusSQL(sql_path='OS/Office_BXL/run/eplusout.sql')"
   ]
  },
  {
   "cell_type": "code",
   "execution_count": null,
   "id": "9f2c7669",
   "metadata": {},
   "outputs": [],
   "source": [
    "df_end_use = eplus_sql.get_annual_energy_by_fuel_and_enduse()\n",
    "df_end_use.applymap(lambda x: x if x > 0 else '')"
   ]
  },
  {
   "cell_type": "markdown",
   "id": "d32894c8",
   "metadata": {},
   "source": [
    "## Unmet Hours"
   ]
  },
  {
   "cell_type": "code",
   "execution_count": null,
   "id": "b56d5bde",
   "metadata": {},
   "outputs": [],
   "source": [
    "df_unmet = eplus_sql.get_unmet_hours_table()\n",
    "df_unmet"
   ]
  },
  {
   "cell_type": "markdown",
   "id": "d16cfc3e",
   "metadata": {},
   "source": [
    "## Look at available reporting variables"
   ]
  },
  {
   "cell_type": "code",
   "execution_count": null,
   "id": "fed841a2",
   "metadata": {},
   "outputs": [],
   "source": [
    "df_vars = eplus_sql.get_reporting_vars()\n",
    "df_vars"
   ]
  },
  {
   "cell_type": "code",
   "execution_count": null,
   "id": "46ff5b1b",
   "metadata": {},
   "outputs": [],
   "source": [
    "df_vars['Name'].unique()"
   ]
  },
  {
   "cell_type": "markdown",
   "id": "36900022",
   "metadata": {},
   "source": [
    "## Load comfort variables"
   ]
  },
  {
   "cell_type": "code",
   "execution_count": null,
   "id": "dc656e7a",
   "metadata": {},
   "outputs": [],
   "source": [
    "comfort_vars = [\n",
    "#'Zone Air Temperature',\n",
    "#'Zone Mean Air Temperature',\n",
    "#'Zone Mean Radiant Temperature',\n",
    "'Zone Operative Temperature',\n",
    "'Zone Thermal Comfort CEN 15251 Adaptive Model Temperature'\n",
    "]"
   ]
  },
  {
   "cell_type": "code",
   "execution_count": null,
   "id": "ddd037b4",
   "metadata": {},
   "outputs": [],
   "source": [
    "df_vars[df_vars['Name'].isin(comfort_vars)]"
   ]
  },
  {
   "cell_type": "code",
   "execution_count": null,
   "id": "45e0908c",
   "metadata": {},
   "outputs": [],
   "source": [
    "df = eplus_sql.get_hourly_variables(variables_list=comfort_vars)"
   ]
  },
  {
   "cell_type": "code",
   "execution_count": null,
   "id": "23a5b6e0",
   "metadata": {},
   "outputs": [],
   "source": [
    "df.groupby(level=1, axis=1).plot(figsize=(16, 9))"
   ]
  },
  {
   "cell_type": "code",
   "execution_count": null,
   "id": "4d6a0665",
   "metadata": {},
   "outputs": [],
   "source": [
    "df.loc[:, pd.IndexSlice[:, 'Zone Thermal Comfort CEN 15251 Adaptive Model Temperature']]"
   ]
  },
  {
   "cell_type": "code",
   "execution_count": null,
   "id": "9c051292",
   "metadata": {},
   "outputs": [],
   "source": [
    "df.swaplevel(0, 1, axis=1)['Zone Thermal Comfort CEN 15251 Adaptive Model Temperature'].plot()"
   ]
  },
  {
   "cell_type": "code",
   "execution_count": null,
   "id": "295b0114",
   "metadata": {},
   "outputs": [],
   "source": [
    "df.swaplevel(0, 1, axis=1)['Zone Thermal Comfort CEN 15251 Adaptive Model Temperature'].plot(subplots=True, figsize=(16, 16))"
   ]
  },
  {
   "cell_type": "markdown",
   "id": "2f1befcb",
   "metadata": {},
   "source": [
    "## Look at heat balance"
   ]
  },
  {
   "cell_type": "raw",
   "id": "8ad940c4",
   "metadata": {},
   "source": [
    "hb_vars = [\n",
    "'Zone Windows Total Transmitted Solar Radiation Energy',\n",
    "       'Zone Windows Total Heat Gain Energy',\n",
    "       'Zone Windows Total Heat Loss Energy',\n",
    "]"
   ]
  },
  {
   "cell_type": "code",
   "execution_count": null,
   "id": "4b3499e9",
   "metadata": {},
   "outputs": [],
   "source": [
    "df = eplus_sql.get_timestep_variables(variables_list=None)"
   ]
  },
  {
   "cell_type": "code",
   "execution_count": null,
   "id": "c5a99d68",
   "metadata": {},
   "outputs": [],
   "source": [
    "df.columns.tolist()"
   ]
  },
  {
   "cell_type": "code",
   "execution_count": null,
   "id": "26f7ba7b",
   "metadata": {},
   "outputs": [],
   "source": [
    "cols = [\n",
    "('Environment', 'Site Diffuse Solar Radiation Rate per Area', 'W/m2'),\n",
    " ('Environment', 'Site Direct Solar Radiation Rate per Area', 'W/m2'),\n",
    " ('Environment', 'Site Outdoor Air Drybulb Temperature', 'C'),\n",
    " ('MID_OFFICES_S_TZ', 'Zone Mean Air Temperature', 'C'),\n",
    " ('MID_S_WINDOW',\n",
    "  'Surface Outside Face Incident Beam Solar Radiation Rate per Area',\n",
    "  'W/m2'),\n",
    " ('MID_S_WINDOW',\n",
    "  'Surface Outside Face Incident Sky Diffuse Solar Radiation Rate per Area',\n",
    "  'W/m2'),\n",
    " ('MID_S_WINDOW',\n",
    "  'Surface Outside Face Incident Solar Radiation Rate per Area',\n",
    "  'W/m2'),\n",
    " ('MID_S_WINDOW', 'Surface Shading Device Is On Time Fraction', ''),\n",
    "# ('MID_S_WINDOW', 'Surface Storm Window On Off Status', ''),\n",
    "# ('MID_S_WINDOW', 'Surface Window Blind Slat Angle', 'deg'),\n",
    " ('MID_S_WINDOW', 'Surface Window Heat Gain Rate', 'W'),\n",
    " ('MID_S_WINDOW', 'Surface Window Heat Loss Rate', 'W'),\n",
    " ('MID_S_WINDOW',\n",
    "  'Surface Window Shading Device Absorbed Solar Radiation Rate',\n",
    "  'W'),\n",
    " ('MID_S_WINDOW', 'Surface Window Transmitted Solar Radiation Rate', 'W'),\n",
    "]\n",
    "\n",
    "df = df[cols]"
   ]
  },
  {
   "cell_type": "code",
   "execution_count": null,
   "id": "5032daf7",
   "metadata": {},
   "outputs": [],
   "source": [
    "day = 0 # Which day to plot, zero-indexed\n",
    "df_day = df.iloc[(4*24)*day + 8*4:(4*24)*day+20*4]"
   ]
  },
  {
   "cell_type": "raw",
   "id": "2c4deb25",
   "metadata": {},
   "source": [
    "df_day.groupby(level='Units', axis=1).plot(figsize=(16, 4))"
   ]
  },
  {
   "cell_type": "code",
   "execution_count": null,
   "id": "35362263",
   "metadata": {},
   "outputs": [],
   "source": [
    "# Only one image, for sharing...\n",
    "\n",
    "grouped = df_day.groupby(level='Units', axis=1)\n",
    "\n",
    "ncols = 1\n",
    "nrows = int(np.ceil(grouped.ngroups/ncols))\n",
    "\n",
    "fig, axes = plt.subplots(nrows=nrows, ncols=ncols, figsize=(16,16), sharey=False)\n",
    "\n",
    "for (key, ax) in zip(grouped.groups.keys(), axes.flatten()):\n",
    "    grouped.get_group(key).plot(ax=ax)\n",
    "\n",
    "ax.legend()\n",
    "plt.show()"
   ]
  },
  {
   "cell_type": "code",
   "execution_count": null,
   "id": "7c90c360",
   "metadata": {},
   "outputs": [],
   "source": []
  }
 ],
 "metadata": {
  "kernelspec": {
   "display_name": "Python 3 (ipykernel)",
   "language": "python",
   "name": "python3"
  },
  "language_info": {
   "codemirror_mode": {
    "name": "ipython",
    "version": 3
   },
   "file_extension": ".py",
   "mimetype": "text/x-python",
   "name": "python",
   "nbconvert_exporter": "python",
   "pygments_lexer": "ipython3",
   "version": "3.9.7"
  },
  "toc": {
   "base_numbering": 1,
   "nav_menu": {},
   "number_sections": true,
   "sideBar": true,
   "skip_h1_title": false,
   "title_cell": "Table of Contents",
   "title_sidebar": "Contents",
   "toc_cell": false,
   "toc_position": {},
   "toc_section_display": true,
   "toc_window_display": false
  }
 },
 "nbformat": 4,
 "nbformat_minor": 5
}
